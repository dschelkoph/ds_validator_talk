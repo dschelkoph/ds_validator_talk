{
 "cells": [
  {
   "cell_type": "code",
   "execution_count": 2,
   "metadata": {},
   "outputs": [],
   "source": [
    "import functools\n",
    "from typing import Annotated, TypeAlias\n",
    "\n",
    "import torch\n",
    "from pydantic import AfterValidator, BaseModel, ConfigDict, Field, TypeAdapter, validate_call"
   ]
  },
  {
   "cell_type": "markdown",
   "metadata": {},
   "source": [
    "# Validating Complex Types Using Pydantic"
   ]
  },
  {
   "cell_type": "markdown",
   "metadata": {},
   "source": [
    "# Introduction"
   ]
  },
  {
   "cell_type": "markdown",
   "metadata": {},
   "source": [
    "## Complex Types"
   ]
  },
  {
   "cell_type": "markdown",
   "metadata": {},
   "source": [
    "- `dict`\n",
    "- `torch.Tensor`\n",
    "- `pd.DataFrame`\n",
    "- `np.ndarray`\n",
    "- ..."
   ]
  },
  {
   "cell_type": "markdown",
   "metadata": {},
   "source": [
    "## Complex Type Hints and Readability"
   ]
  },
  {
   "cell_type": "markdown",
   "metadata": {},
   "source": [
    "### Pandas"
   ]
  },
  {
   "cell_type": "markdown",
   "metadata": {},
   "source": [
    "```python\n",
    "def get_sale_items(items: pd.DataFrame) -> pd.DataFrame: ...\n",
    "\n",
    "def create_dataframe_of_scores(avg_scores: list, prec_k: list, recall_k: list, k) -> pd.DataFrame: ...\n",
    "\n",
    "def graph_supporter_breakdown(df: pd.DataFrame, company: str): ...\n",
    "```"
   ]
  },
  {
   "cell_type": "markdown",
   "metadata": {},
   "source": [
    "### Torch"
   ]
  },
  {
   "cell_type": "markdown",
   "metadata": {},
   "source": [
    "```python\n",
    "def normalize_ensemble(ensemble: torch.Tensor) -> torch.Tensor: ...\n",
    "\n",
    "def pooler(tensor: torch.Tensor) -> torch.Tensor: ...\n",
    "\n",
    "def reducer(tensor: torch.Tensor) -> torch.Tensor: ...\n",
    "```"
   ]
  },
  {
   "cell_type": "markdown",
   "metadata": {},
   "source": [
    "# Readability Improvements"
   ]
  },
  {
   "cell_type": "markdown",
   "metadata": {},
   "source": [
    "## Type Alias"
   ]
  },
  {
   "cell_type": "markdown",
   "metadata": {},
   "source": [
    "```python\n",
    "# python <=3.11\n",
    "Items: TypeAlias = pd.DataFrame\n",
    "\n",
    "# python 3.12+\n",
    "type Items_2 = pd.DataFrame\n",
    "```"
   ]
  },
  {
   "cell_type": "markdown",
   "metadata": {},
   "source": [
    "```python\n",
    "Items: TypeAlias = pd.DataFrame\n",
    "\n",
    "def get_sale_items(items: Items) -> Items: ...\n",
    "\n",
    "ModelEnsemble: TypeAlias = torch.Tensor\n",
    "Model: TypeAlias = torch.Tensor\n",
    "\n",
    "def normalize_ensemble(ensemble: ModelEnsemble) -> Model: ...\n",
    "```"
   ]
  },
  {
   "cell_type": "markdown",
   "metadata": {},
   "source": [
    "## Add Comments To Alias"
   ]
  },
  {
   "cell_type": "code",
   "execution_count": 2,
   "metadata": {},
   "outputs": [],
   "source": [
    "ModelEnsemble: TypeAlias = torch.Tensor\n",
    "\"\"\"Has shape of (x, n, m), where: x = number of models, n = number of model elements, m = embedding count\"\"\"\n",
    "Model: TypeAlias = torch.Tensor\n",
    "\"\"\"Has shape of (n, m), where: n = number of model elements, m = embedding count\"\"\"\n",
    "ElementScore: TypeAlias = torch.Tensor\n",
    "\"\"\"Has shape of (n), where: n = number of model elements\"\"\"\n",
    "\n",
    "\n",
    "def normalize_ensemble(ensemble: ModelEnsemble) -> Model: ...\n",
    "def pooler(tensor: Model) -> Model: ...\n",
    "def reducer(tensor: Model) -> ElementScore: ..."
   ]
  },
  {
   "cell_type": "markdown",
   "metadata": {},
   "source": [
    "## `Annotated` Type"
   ]
  },
  {
   "cell_type": "markdown",
   "metadata": {},
   "source": [
    "```python\n",
    "Quantities: TypeAlias = Annotated[pd.Series, {\"shape\": (2,), \"dtype\": \"int64\", \"name\": \"quantitiy\"}]"
   ]
  },
  {
   "cell_type": "markdown",
   "metadata": {},
   "source": [
    "# Putting Annotations to Work"
   ]
  },
  {
   "cell_type": "markdown",
   "metadata": {},
   "source": [
    "## Pydantic Compatible Metadata"
   ]
  },
  {
   "cell_type": "markdown",
   "metadata": {},
   "source": [
    "### Field"
   ]
  },
  {
   "cell_type": "code",
   "execution_count": 16,
   "metadata": {},
   "outputs": [],
   "source": [
    "PositiveInt: TypeAlias = Annotated[int, Field(gt=0)]"
   ]
  },
  {
   "cell_type": "markdown",
   "metadata": {},
   "source": [
    "### AfterValidator"
   ]
  },
  {
   "cell_type": "code",
   "execution_count": 17,
   "metadata": {},
   "outputs": [],
   "source": [
    "def even_str(data: str) -> str:\n",
    "    if not len(data) % 2 == 0:\n",
    "        raise ValueError(f\"String length must be even, length: {len(data)}.\")\n",
    "    return data\n",
    "\n",
    "\n",
    "EvenStr: TypeAlias = Annotated[str, AfterValidator(even_str)]\n",
    "ValidatedTuple: TypeAlias = tuple[PositiveInt, EvenStr]"
   ]
  },
  {
   "cell_type": "markdown",
   "metadata": {},
   "source": [
    "## Pydantic Validation Objects"
   ]
  },
  {
   "cell_type": "code",
   "execution_count": 18,
   "metadata": {},
   "outputs": [],
   "source": [
    "bad_data = (-1, \"odd\")\n",
    "good_data = (1, \"even\")"
   ]
  },
  {
   "cell_type": "markdown",
   "metadata": {},
   "source": [
    "### `BaseModel`"
   ]
  },
  {
   "cell_type": "code",
   "execution_count": 6,
   "metadata": {},
   "outputs": [],
   "source": [
    "class ModelData(BaseModel):\n",
    "    count: PositiveInt\n",
    "    name: EvenStr\n",
    "\n",
    "model_data = ModelData(count=good_data[0], name=good_data[1])"
   ]
  },
  {
   "cell_type": "code",
   "execution_count": null,
   "metadata": {},
   "outputs": [],
   "source": [
    "bad_model_data = ModelData(count=bad_data[0], name=bad_data[1])"
   ]
  },
  {
   "cell_type": "markdown",
   "metadata": {},
   "source": [
    "### `validate_call`"
   ]
  },
  {
   "cell_type": "code",
   "execution_count": 11,
   "metadata": {},
   "outputs": [],
   "source": [
    "@validate_call(validate_return=True)\n",
    "def process_data(data: ValidatedTuple, duplicates: bool = True) -> bool:\n",
    "    if duplicates:\n",
    "        return False\n",
    "\n",
    "is_data_processed = process_data(data=good_data)"
   ]
  },
  {
   "cell_type": "code",
   "execution_count": null,
   "metadata": {},
   "outputs": [],
   "source": [
    "bad_return = process_data(data=good_data, duplicates=False)"
   ]
  },
  {
   "cell_type": "markdown",
   "metadata": {},
   "source": [
    "### `TypeAdapter`"
   ]
  },
  {
   "cell_type": "code",
   "execution_count": 14,
   "metadata": {},
   "outputs": [],
   "source": [
    "tuple_adapter = TypeAdapter(ValidatedTuple)\n",
    "\n",
    "validated_good_data = tuple_adapter.validate_python(good_data)"
   ]
  },
  {
   "cell_type": "code",
   "execution_count": null,
   "metadata": {},
   "outputs": [],
   "source": [
    "adapter_bad_data = tuple_adapter.validate_python(bad_data)"
   ]
  },
  {
   "cell_type": "markdown",
   "metadata": {},
   "source": [
    "# Using Pydantic on Data Science Types"
   ]
  },
  {
   "cell_type": "code",
   "execution_count": null,
   "metadata": {},
   "outputs": [],
   "source": [
    "def tensor_shape(data: torch.Tensor, shape=tuple[int, ...]) -> torch.Tensor:\n",
    "    if data.shape != shape:\n",
    "        raise ValueError(f\"Tensor must be of size {shape}, current size: {data.shape}.\")\n",
    "    return data\n",
    "\n",
    "\n",
    "ensemble_shape = functools.partial(tensor_shape, shape=(3, 2, 4,))\n",
    "EnsembleModel: TypeAlias = Annotated[torch.Tensor, AfterValidator(ensemble_shape)]\n",
    "\n",
    "\n",
    "@validate_call(config=ConfigDict(arbitrary_types_allowed=True), validate_return=True)\n",
    "def test() -> EnsembleModel:\n",
    "    return torch.zeros(7, 6)"
   ]
  },
  {
   "cell_type": "markdown",
   "metadata": {},
   "source": [
    "## Hassles"
   ]
  },
  {
   "cell_type": "markdown",
   "metadata": {},
   "source": [
    "- `ConfigDict` needed to be added to `validate_call`.\n",
    "- Had to use partial to take a generic function and make it specific to a type\n",
    "- EnsembleModel `TypeAlias` isn't very readable"
   ]
  },
  {
   "cell_type": "markdown",
   "metadata": {},
   "source": [
    "## `ds_validator`"
   ]
  },
  {
   "cell_type": "code",
   "execution_count": 4,
   "metadata": {},
   "outputs": [],
   "source": [
    "from ds_validator import ds_type_adapter\n",
    "from ds_validator.torch import tensor_dtype, tensor_shape, tensor_device\n",
    "\n",
    "Weights: TypeAlias = Annotated[\n",
    "    torch.Tensor,\n",
    "    tensor_shape(shape=(3, None, range(1, 5), \"x\", \"x\")),\n",
    "    tensor_dtype(data_type=torch.int64),\n",
    "    tensor_device(device=torch.device(\"cpu\"), match_index=False),\n",
    "]\n",
    "weight_adapter = ds_type_adapter(Weights)\n",
    "\n",
    "good_weights = weight_adapter.validate_python(torch.zeros(3, 2, 4, 5, 5, dtype=torch.int64))"
   ]
  },
  {
   "cell_type": "code",
   "execution_count": null,
   "metadata": {},
   "outputs": [],
   "source": [
    "bad_weights = weight_adapter.validate_python(torch.zeros(2, 1, 6, 4, 3))"
   ]
  },
  {
   "cell_type": "markdown",
   "metadata": {},
   "source": [
    "## Create a Custom Validator"
   ]
  },
  {
   "cell_type": "code",
   "execution_count": 8,
   "metadata": {},
   "outputs": [],
   "source": [
    "from ds_validator import create_after_validator, create_checker\n",
    "\n",
    "def tensor_dimensions_error_finder(data: torch.Tensor, *, dimensions: int) -> list[str]:\n",
    "    if data.dim() != dimensions:\n",
    "        return [\n",
    "            f\"Tensor doesn't match required dimensions {dimensions}, data dimensions: {data.dim()}.\"\n",
    "        ]\n",
    "    return []\n",
    "\n",
    "tensor_dimensions_checker = create_checker(\"torch_tensor_dimensions_error\", tensor_dimensions_error_finder)\n",
    "tensor_dimensions = create_after_validator(tensor_dimensions_checker)\n",
    "\n",
    "CustomWeights: TypeAdapter = Annotated[torch.Tensor, tensor_dimensions(dimensions=3)]\n",
    "custom_weights_adapter = ds_type_adapter(CustomWeights)\n",
    "\n",
    "good_custom_weights = custom_weights_adapter.validate_python(torch.zeros(1, 1, 1))"
   ]
  },
  {
   "cell_type": "code",
   "execution_count": null,
   "metadata": {},
   "outputs": [],
   "source": [
    "bad_custom_weights = custom_weights_adapter.validate_python(torch.zeros(1,2))"
   ]
  }
 ],
 "metadata": {
  "kernelspec": {
   "display_name": "project",
   "language": "python",
   "name": "python3"
  },
  "language_info": {
   "codemirror_mode": {
    "name": "ipython",
    "version": 3
   },
   "file_extension": ".py",
   "mimetype": "text/x-python",
   "name": "python",
   "nbconvert_exporter": "python",
   "pygments_lexer": "ipython3",
   "version": "3.12.3"
  }
 },
 "nbformat": 4,
 "nbformat_minor": 2
}
